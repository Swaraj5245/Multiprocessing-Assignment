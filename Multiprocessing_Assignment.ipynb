{
 "cells": [
  {
   "cell_type": "markdown",
   "id": "f51c155d-6050-4772-a6ae-f3fcd0939ae2",
   "metadata": {},
   "source": [
    "### Q1. What is multiprocessing in python? Why is it useful?"
   ]
  },
  {
   "cell_type": "markdown",
   "id": "d48bc672-2222-47eb-b1e5-e95a3f9cc5c4",
   "metadata": {},
   "source": [
    "In python multiprocessing is a Module which enable creation, communication between multiple process etc. Each process runs on its own Python interpreter.  \n",
    "Key components of a Multithreading:  \n",
    "**Process:** This class in Multithreading runs the programe in multiple process.  \n",
    "**Pool:** This class runs the prgrame in number of processes as per the given by the user & makes programe to run smoother.\n",
    "**Queue:** it provide a communication between processes by the shared queue. Processes can simple put and get the item from the queue.\n",
    "\n",
    "##### Why it is useful? :\n",
    "**Their are multiple reason why it is useful**  \n",
    "it makes programe to run smoother.  \n",
    "porvide GIL (gloable interpreted lock), In which multiple threads shares same memory space.  \n",
    "it provide a way to take the advantages of multiple cpu core's."
   ]
  },
  {
   "cell_type": "markdown",
   "id": "c19cbb42-46e0-47b3-8518-16e33406130e",
   "metadata": {},
   "source": [
    "### Q2. What are the differences between multiprocessing and multithreading?"
   ]
  },
  {
   "cell_type": "markdown",
   "id": "f9846a0f-6bec-407e-827c-1af2f590f3e6",
   "metadata": {},
   "source": [
    "**Multiprocessing:**\n",
    "\n",
    "1. Multiple processes run independently.  \n",
    "2. Each process has its own memory space.  \n",
    "3. Processes are isolated and communicate through inter-process communication.  \n",
    "4. Provide a way to take the advantages of multiple cpu cores.  \n",
    "5. Involves more resource overhead due to separate processes.  \n",
    "6. Bypasses the Global Interpreter Lock (GIL) for true parallelism.  \n",
    "\n",
    "**Multithreading:**\n",
    "\n",
    "1. Multiple threads run within the same process.  \n",
    "2. Threads share the same memory space and Python interpreter.  \n",
    "3. Threads can communicate more directly but require synchronization mechanisms.  \n",
    "4. More appropriate for I/O-bound tasks, allowing threads to perform other tasks while waiting. \n",
    "5. Involves less resource overhead compared to multiprocessing.  \n",
    "6. Less fault-tolerant; an unhandled exception in one thread can affect the entire process."
   ]
  },
  {
   "cell_type": "markdown",
   "id": "8991a1c1-276c-48ef-ad2a-c94850afab6e",
   "metadata": {},
   "source": [
    "### Q3. Write a python code to create a process using the multiprocessing module."
   ]
  },
  {
   "cell_type": "code",
   "execution_count": 1,
   "id": "19a7d477-6fd5-4faf-af7b-5f94fc4b2551",
   "metadata": {},
   "outputs": [],
   "source": [
    "#importing multiprocessing module\n",
    "import multiprocessing\n",
    "\n",
    "#creating a function which prints the square of a numbers \n",
    "def square():\n",
    "    for i in range(11):\n",
    "        print(i**2)\n",
    "        \n",
    "#creating a Process \n",
    "pr=multiprocessing.Process(target=square)\n",
    "pr.start()\n",
    "pr.join()"
   ]
  },
  {
   "cell_type": "markdown",
   "id": "eeabb370-5393-46e9-ba00-64d65c14f9a3",
   "metadata": {},
   "source": [
    "### Q4. What is a multiprocessing pool in python? Why is it used?"
   ]
  },
  {
   "cell_type": "markdown",
   "id": "cf8f612c-8a6f-40bd-a0ef-e67040ec94f3",
   "metadata": {},
   "source": [
    "In multiprocessing module, Pool is a class which runs the code in number of a cores of a CPU as per the processes given by the user to make to programe runs faster and smoother.  \n",
    "In Pool we use map function to perform the operation, with the **with** statement.\n",
    "##### why it is used?\n",
    "It allows for the parallel execution of functions, taking advantage of multiple CPU cores and achieving better performance.\n",
    "The pool abstracts away the complexity of managing multiple processes, making it easier to parallelize tasks.\n",
    "It provides a scalable solution for distributing workloads, especially when dealing with large datasets or computationally intensive tasks.  \n",
    "\n",
    "**Example:**"
   ]
  },
  {
   "cell_type": "code",
   "execution_count": 2,
   "id": "b2d12fb4-a6d8-454e-a953-c38e0ce2d9d5",
   "metadata": {},
   "outputs": [],
   "source": [
    "import multiprocessing\n",
    "\n",
    "def square(x):\n",
    "    return x ** 2\n",
    "\n",
    "if __name__ == \"__main__\":\n",
    "    with multiprocessing.Pool(processes=4) as pool:\n",
    "        l= [1, 2, 3, 4, 5]\n",
    "        results = pool.map(square,l)\n",
    "\n",
    "    print(\"Squares\", results)"
   ]
  },
  {
   "cell_type": "markdown",
   "id": "2703fe15-fb0e-449d-9de1-4f58f2474b46",
   "metadata": {},
   "source": [
    "### Q5. How can we create a pool of worker processes in python using the multiprocessing module?"
   ]
  },
  {
   "cell_type": "markdown",
   "id": "da6e7133-59d7-4fed-b320-232dc6629836",
   "metadata": {},
   "source": [
    "In multiprocessing module with **Pool** class we can create a pool of worker process. it provide a convinient way for the parallel excecuation of function.  \n",
    "The Pool class serves as a container for managing a group of worker processes. These worker processes operate concurrently, each running independently and capable of executing tasks in parallel.\n",
    "\n",
    "**Example:**"
   ]
  },
  {
   "cell_type": "code",
   "execution_count": null,
   "id": "ced1edd0-7434-4c80-98d1-9ae3fb13b70c",
   "metadata": {},
   "outputs": [
    {
     "name": "stdout",
     "output_type": "stream",
     "text": [
      "[1000, 1728, 2744, 4096, 5832, 8000, 10648, 13824]\n"
     ]
    }
   ],
   "source": [
    "import multiprocessing \n",
    "\n",
    "l=[i for i in range(10,25,2)]\n",
    "\n",
    "def cube(n):\n",
    "    return n**3\n",
    "\n",
    "if __name__=='__main__':\n",
    "    with multiprocessing.Pool(processes=5) as p:\n",
    "        c=p.map(cube,l)\n",
    "        print(list(c))"
   ]
  },
  {
   "cell_type": "markdown",
   "id": "9b4d6f01-0447-4a1f-8a11-5a740d8fe53d",
   "metadata": {},
   "source": [
    "### Q6. Write a python program to create 4 processes, each process should print a different number using the multiprocessing module in python."
   ]
  },
  {
   "cell_type": "code",
   "execution_count": null,
   "id": "6e64d238-5980-49f5-a0bc-09c12fee54d5",
   "metadata": {
    "tags": []
   },
   "outputs": [
    {
     "name": "stdout",
     "output_type": "stream",
     "text": [
      "Number:25\n",
      "Number:26\n",
      "Number:27\n",
      "Number:28\n",
      "Number:29\n",
      "Number:30\n",
      "Number:31\n"
     ]
    }
   ],
   "source": [
    "import multiprocessing\n",
    "\n",
    "l1=[i for i in range(25,32)]\n",
    "\n",
    "def number(n):\n",
    "    return f\"Number:{n}\"\n",
    "    \n",
    "if __name__=='__main__':\n",
    "    with multiprocessing.Pool(processes=4) as p:\n",
    "        m=p.map(number,l1)\n",
    "        for i in m:\n",
    "            print(i)"
   ]
  },
  {
   "cell_type": "code",
   "execution_count": null,
   "id": "eeeb3b3f",
   "metadata": {},
   "outputs": [],
   "source": [
    "for i in range(11):\n",
    "    print(i)"
   ]
  }
 ],
 "metadata": {
  "kernelspec": {
   "display_name": "Python 3 (ipykernel)",
   "language": "python",
   "name": "python3"
  },
  "language_info": {
   "codemirror_mode": {
    "name": "ipython",
    "version": 3
   },
   "file_extension": ".py",
   "mimetype": "text/x-python",
   "name": "python",
   "nbconvert_exporter": "python",
   "pygments_lexer": "ipython3",
   "version": "3.11.7"
  }
 },
 "nbformat": 4,
 "nbformat_minor": 5
}
